{
 "cells": [
  {
   "cell_type": "code",
   "execution_count": 58,
   "id": "c4ef85fb",
   "metadata": {},
   "outputs": [],
   "source": [
    "# testing if encryption of pictures is okey\n",
    "house = ('B00010000','B00111111','B01110111','B11111100','B11111111','B01110111','B00111111','B00010000')\n",
    "swoosh = (\"B00000000\",\"B00001000\",\"B00000100\",\"B00000010\",\"B00000100\",\"B00001000\",\"B00010000\",\"B00100000\")\n",
    "smile = ('B00000000','B00000100','B00110010','B00000010','B00000010','B00110010','B00000100','B00000000')\n",
    "sad_smiley = ('B00000000','B00100110','B00110100','B00000100','B00000100','B00110100','B00100110','B00000000')\n",
    "cross = ('B00000000','B01000010','B00100100','B00011000','B00011000','B00100100','B01000010','B00000000')\n",
    "man_walking_outside = ('B00010001','B00010010','B00111100','B00010010','B00010001','B10000000','B11000000','B11111111')"
   ]
  },
  {
   "cell_type": "code",
   "execution_count": 61,
   "id": "4177ff3b",
   "metadata": {},
   "outputs": [],
   "source": [
    "def test_length_elem(elem):\n",
    "    if len(elem) == 8:\n",
    "        print(True)\n",
    "    else:\n",
    "        print(False)\n",
    "        \n",
    "def test_length_column(elem):\n",
    "    for col in elem:\n",
    "#         print(col)\n",
    "#         print(len(col))\n",
    "        if len(col) != 9:\n",
    "            print(False)\n",
    "            break\n",
    "    print(True)\n",
    "            \n",
    "            \n",
    "    "
   ]
  },
  {
   "cell_type": "code",
   "execution_count": 62,
   "id": "112f2021",
   "metadata": {},
   "outputs": [
    {
     "name": "stdout",
     "output_type": "stream",
     "text": [
      "True\n",
      "True\n"
     ]
    }
   ],
   "source": [
    "test_length_elem(house)\n",
    "test_length_column(house)"
   ]
  },
  {
   "cell_type": "code",
   "execution_count": 63,
   "id": "cb9c4b55",
   "metadata": {},
   "outputs": [
    {
     "name": "stdout",
     "output_type": "stream",
     "text": [
      "True\n",
      "True\n"
     ]
    }
   ],
   "source": [
    "test_length_elem(swoosh)\n",
    "test_length_column(swoosh)"
   ]
  },
  {
   "cell_type": "code",
   "execution_count": 64,
   "id": "d40dd45b",
   "metadata": {},
   "outputs": [
    {
     "name": "stdout",
     "output_type": "stream",
     "text": [
      "True\n",
      "True\n"
     ]
    }
   ],
   "source": [
    "test_length_elem(smile)\n",
    "test_length_column(smile)"
   ]
  },
  {
   "cell_type": "code",
   "execution_count": 65,
   "id": "9a882b1f",
   "metadata": {},
   "outputs": [
    {
     "name": "stdout",
     "output_type": "stream",
     "text": [
      "True\n",
      "True\n"
     ]
    }
   ],
   "source": [
    "test_length_elem(sad_smiley)\n",
    "test_length_column(sad_smiley)"
   ]
  },
  {
   "cell_type": "code",
   "execution_count": 66,
   "id": "d78ad329",
   "metadata": {},
   "outputs": [
    {
     "name": "stdout",
     "output_type": "stream",
     "text": [
      "True\n",
      "True\n"
     ]
    }
   ],
   "source": [
    "test_length_elem(cross)\n",
    "test_length_column(cross)"
   ]
  },
  {
   "cell_type": "code",
   "execution_count": 67,
   "id": "eeb1b68c",
   "metadata": {},
   "outputs": [
    {
     "name": "stdout",
     "output_type": "stream",
     "text": [
      "True\n",
      "True\n"
     ]
    }
   ],
   "source": [
    "test_length_elem(man_walking_outside)\n",
    "test_length_column(man_walking_outside)"
   ]
  },
  {
   "cell_type": "code",
   "execution_count": null,
   "id": "08cb0ab4",
   "metadata": {},
   "outputs": [],
   "source": []
  },
  {
   "cell_type": "code",
   "execution_count": null,
   "id": "ce079b06",
   "metadata": {},
   "outputs": [],
   "source": []
  }
 ],
 "metadata": {
  "kernelspec": {
   "display_name": "Python 3",
   "language": "python",
   "name": "python3"
  },
  "language_info": {
   "codemirror_mode": {
    "name": "ipython",
    "version": 3
   },
   "file_extension": ".py",
   "mimetype": "text/x-python",
   "name": "python",
   "nbconvert_exporter": "python",
   "pygments_lexer": "ipython3",
   "version": "3.7.10"
  }
 },
 "nbformat": 4,
 "nbformat_minor": 5
}
